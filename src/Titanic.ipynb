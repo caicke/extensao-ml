{
  "nbformat": 4,
  "nbformat_minor": 0,
  "metadata": {
    "colab": {
      "name": "Titanic.ipynb",
      "provenance": []
    },
    "kernelspec": {
      "name": "python3",
      "display_name": "Python 3"
    }
  },
  "cells": [
    {
      "cell_type": "code",
      "metadata": {
        "id": "uhPMZ7Gr6o4i"
      },
      "source": [
        "import pandas as pd\r\n",
        "import numpy as np\r\n",
        "import sklearn\r\n",
        "import seaborn as sns\r\n",
        "from matplotlib import pyplot\r\n",
        "from sklearn.model_selection import train_test_split\r\n",
        "from sklearn.linear_model import LogisticRegression\r\n",
        "from sklearn.metrics import accuracy_score, confusion_matrix"
      ],
      "execution_count": 164,
      "outputs": []
    },
    {
      "cell_type": "code",
      "metadata": {
        "colab": {
          "base_uri": "https://localhost:8080/",
          "height": 204
        },
        "id": "sBsTv3fZ7Rtw",
        "outputId": "286c0a5d-d9d9-418c-9ffe-423abb10ab76"
      },
      "source": [
        "data = pd.read_csv(\"https://raw.githubusercontent.com/profmoisesomena/escience_and_tools/master/data/titanic_lab_sample.csv\",\r\n",
        "                   header=0,\r\n",
        "                   names=['classe', 'sexo', 'idade', 'conj/irm', 'pai/crian', 'tarifa', 'sobrevivente'])\r\n",
        "data.head()"
      ],
      "execution_count": 165,
      "outputs": [
        {
          "output_type": "execute_result",
          "data": {
            "text/html": [
              "<div>\n",
              "<style scoped>\n",
              "    .dataframe tbody tr th:only-of-type {\n",
              "        vertical-align: middle;\n",
              "    }\n",
              "\n",
              "    .dataframe tbody tr th {\n",
              "        vertical-align: top;\n",
              "    }\n",
              "\n",
              "    .dataframe thead th {\n",
              "        text-align: right;\n",
              "    }\n",
              "</style>\n",
              "<table border=\"1\" class=\"dataframe\">\n",
              "  <thead>\n",
              "    <tr style=\"text-align: right;\">\n",
              "      <th></th>\n",
              "      <th>classe</th>\n",
              "      <th>sexo</th>\n",
              "      <th>idade</th>\n",
              "      <th>conj/irm</th>\n",
              "      <th>pai/crian</th>\n",
              "      <th>tarifa</th>\n",
              "      <th>sobrevivente</th>\n",
              "    </tr>\n",
              "  </thead>\n",
              "  <tbody>\n",
              "    <tr>\n",
              "      <th>0</th>\n",
              "      <td>1</td>\n",
              "      <td>1</td>\n",
              "      <td>29.0000</td>\n",
              "      <td>0</td>\n",
              "      <td>0</td>\n",
              "      <td>211.3375</td>\n",
              "      <td>1</td>\n",
              "    </tr>\n",
              "    <tr>\n",
              "      <th>1</th>\n",
              "      <td>1</td>\n",
              "      <td>0</td>\n",
              "      <td>0.9167</td>\n",
              "      <td>1</td>\n",
              "      <td>2</td>\n",
              "      <td>151.5500</td>\n",
              "      <td>1</td>\n",
              "    </tr>\n",
              "    <tr>\n",
              "      <th>2</th>\n",
              "      <td>1</td>\n",
              "      <td>1</td>\n",
              "      <td>2.0000</td>\n",
              "      <td>1</td>\n",
              "      <td>2</td>\n",
              "      <td>151.5500</td>\n",
              "      <td>0</td>\n",
              "    </tr>\n",
              "    <tr>\n",
              "      <th>3</th>\n",
              "      <td>1</td>\n",
              "      <td>0</td>\n",
              "      <td>30.0000</td>\n",
              "      <td>1</td>\n",
              "      <td>2</td>\n",
              "      <td>151.5500</td>\n",
              "      <td>0</td>\n",
              "    </tr>\n",
              "    <tr>\n",
              "      <th>4</th>\n",
              "      <td>1</td>\n",
              "      <td>1</td>\n",
              "      <td>25.0000</td>\n",
              "      <td>1</td>\n",
              "      <td>2</td>\n",
              "      <td>151.5500</td>\n",
              "      <td>0</td>\n",
              "    </tr>\n",
              "  </tbody>\n",
              "</table>\n",
              "</div>"
            ],
            "text/plain": [
              "   classe  sexo    idade  conj/irm  pai/crian    tarifa  sobrevivente\n",
              "0       1     1  29.0000         0          0  211.3375             1\n",
              "1       1     0   0.9167         1          2  151.5500             1\n",
              "2       1     1   2.0000         1          2  151.5500             0\n",
              "3       1     0  30.0000         1          2  151.5500             0\n",
              "4       1     1  25.0000         1          2  151.5500             0"
            ]
          },
          "metadata": {
            "tags": []
          },
          "execution_count": 165
        }
      ]
    },
    {
      "cell_type": "markdown",
      "metadata": {
        "id": "uXM5d6ojaxzU"
      },
      "source": [
        "# Observações relevantes"
      ]
    },
    {
      "cell_type": "markdown",
      "metadata": {
        "id": "HjOBoAWyA8Yd"
      },
      "source": [
        "A maioria dos sobreviventes estavam na primeira classe, porém houve mais sobreviventes na terceira classe do que na segunda (talvez pelo número maior de passageiros)."
      ]
    },
    {
      "cell_type": "code",
      "metadata": {
        "colab": {
          "base_uri": "https://localhost:8080/",
          "height": 390
        },
        "id": "WK246apL_RJF",
        "outputId": "bb0b297b-6bbd-402d-da21-2e94f37f58a2"
      },
      "source": [
        "data.query('sobrevivente == 1')['classe'].value_counts().plot(kind='pie', title=\"Sobreviventes por classe\",\r\n",
        "                                                              autopct='%.2f%%',\r\n",
        "                                                              figsize = (6,6), labels=['Primeira','Segunda', 'Terceira'])"
      ],
      "execution_count": 166,
      "outputs": [
        {
          "output_type": "execute_result",
          "data": {
            "text/plain": [
              "<matplotlib.axes._subplots.AxesSubplot at 0x7ff13a8d9bd0>"
            ]
          },
          "metadata": {
            "tags": []
          },
          "execution_count": 166
        },
        {
          "output_type": "display_data",
          "data": {
            "image/png": "[encoded data removed]",
            "text/plain": [
              "<Figure size 432x432 with 1 Axes>"
            ]
          },
          "metadata": {
            "tags": []
          }
        }
      ]
    },
    {
      "cell_type": "markdown",
      "metadata": {
        "id": "3ovM0_8PbRj7"
      },
      "source": [
        "#### A maioria dos sobreviventes eram do sexo masculino"
      ]
    },
    {
      "cell_type": "code",
      "metadata": {
        "colab": {
          "base_uri": "https://localhost:8080/",
          "height": 390
        },
        "id": "xCJ8vMeFV4cP",
        "outputId": "549747a6-b348-482d-bbd3-dbb07c1d22e3"
      },
      "source": [
        "data.query('sobrevivente == 1')['sexo'].value_counts().plot(kind='pie',\r\n",
        "                    title=\"Sobreviventes por sexo\",\r\n",
        "                    autopct='%.2f%%',\r\n",
        "                    figsize = (6,6), labels=['Masculino','Feminino'])"
      ],
      "execution_count": 167,
      "outputs": [
        {
          "output_type": "execute_result",
          "data": {
            "text/plain": [
              "<matplotlib.axes._subplots.AxesSubplot at 0x7ff13a8a1fd0>"
            ]
          },
          "metadata": {
            "tags": []
          },
          "execution_count": 167
        },
        {
          "output_type": "display_data",
          "data": {
            "image/png": "[encoded data removed]",
            "text/plain": [
              "<Figure size 432x432 with 1 Axes>"
            ]
          },
          "metadata": {
            "tags": []
          }
        }
      ]
    },
    {
      "cell_type": "markdown",
      "metadata": {
        "id": "blDnNs50dggb"
      },
      "source": [
        "#### Porém, proporcionalmente, o número de mulheres sobreviventes foi maior."
      ]
    },
    {
      "cell_type": "code",
      "metadata": {
        "colab": {
          "base_uri": "https://localhost:8080/"
        },
        "id": "xUJWOwB6cHOb",
        "outputId": "de4ce10b-ba54-41f5-b4d3-f4968cabf9ae"
      },
      "source": [
        "data['sobrevivente'][data[\"sexo\"] == 1].value_counts()"
      ],
      "execution_count": 168,
      "outputs": [
        {
          "output_type": "execute_result",
          "data": {
            "text/plain": [
              "1    314\n",
              "0    115\n",
              "Name: sobrevivente, dtype: int64"
            ]
          },
          "metadata": {
            "tags": []
          },
          "execution_count": 168
        }
      ]
    },
    {
      "cell_type": "code",
      "metadata": {
        "colab": {
          "base_uri": "https://localhost:8080/"
        },
        "id": "MYqJN4QYc8ab",
        "outputId": "92586b7f-c0bd-4fa4-cf0c-9ca9de4bbfe4"
      },
      "source": [
        "data['sobrevivente'][data[\"sexo\"] == 0].value_counts()"
      ],
      "execution_count": 169,
      "outputs": [
        {
          "output_type": "execute_result",
          "data": {
            "text/plain": [
              "0    527\n",
              "1    152\n",
              "Name: sobrevivente, dtype: int64"
            ]
          },
          "metadata": {
            "tags": []
          },
          "execution_count": 169
        }
      ]
    },
    {
      "cell_type": "markdown",
      "metadata": {
        "id": "ixSWf1XjJvw_"
      },
      "source": [
        "# Predições e resultados"
      ]
    },
    {
      "cell_type": "markdown",
      "metadata": {
        "id": "yT0mFMRwKbR-"
      },
      "source": [
        "### Colocando sobrevivente como alvo da predição"
      ]
    },
    {
      "cell_type": "code",
      "metadata": {
        "id": "4WchIGZgJ1CD"
      },
      "source": [
        "X = data.drop(['sobrevivente'], axis = 1)\r\n",
        "y = data['sobrevivente']"
      ],
      "execution_count": 170,
      "outputs": []
    },
    {
      "cell_type": "markdown",
      "metadata": {
        "id": "ZcBtcqBlKlwd"
      },
      "source": [
        "#### Separando as bases de treino e de teste"
      ]
    },
    {
      "cell_type": "code",
      "metadata": {
        "id": "qpsWJTHJKq6d"
      },
      "source": [
        "X_treino, X_teste, y_treino, y_teste = train_test_split(X, y, test_size=0.25, shuffle=True)"
      ],
      "execution_count": 171,
      "outputs": []
    },
    {
      "cell_type": "code",
      "metadata": {
        "colab": {
          "base_uri": "https://localhost:8080/"
        },
        "id": "shITKkPvLAlN",
        "outputId": "d341f6a5-ee01-4b52-d16f-d01d102a8761"
      },
      "source": [
        "model = LogisticRegression()\r\n",
        "model.fit(X_treino, y_treino)"
      ],
      "execution_count": 172,
      "outputs": [
        {
          "output_type": "execute_result",
          "data": {
            "text/plain": [
              "LogisticRegression(C=1.0, class_weight=None, dual=False, fit_intercept=True,\n",
              "                   intercept_scaling=1, l1_ratio=None, max_iter=100,\n",
              "                   multi_class='auto', n_jobs=None, penalty='l2',\n",
              "                   random_state=None, solver='lbfgs', tol=0.0001, verbose=0,\n",
              "                   warm_start=False)"
            ]
          },
          "metadata": {
            "tags": []
          },
          "execution_count": 172
        }
      ]
    },
    {
      "cell_type": "code",
      "metadata": {
        "colab": {
          "base_uri": "https://localhost:8080/"
        },
        "id": "s5GhgV2MWIP2",
        "outputId": "b49cc23f-b129-4806-a44e-9afb6a307998"
      },
      "source": [
        "predicaoTreino = model.predict(X_treino)\r\n",
        "predicaoTeste = model.predict(X_teste)\r\n",
        "print(\"Acurácia treino: \",accuracy_score(y_treino, predicaoTreino))\r\n",
        "print(\"Acurácia teste: \", accuracy_score(y_teste, predicaoTeste))"
      ],
      "execution_count": 173,
      "outputs": [
        {
          "output_type": "stream",
          "text": [
            "Acurácia treino:  0.7569193742478941\n",
            "Acurácia teste:  0.7725631768953068\n"
          ],
          "name": "stdout"
        }
      ]
    },
    {
      "cell_type": "markdown",
      "metadata": {
        "id": "dpOPnciHgZCY"
      },
      "source": [
        "#### Matriz de confusão"
      ]
    },
    {
      "cell_type": "code",
      "metadata": {
        "colab": {
          "base_uri": "https://localhost:8080/"
        },
        "id": "RusGCNiafwYB",
        "outputId": "0a400303-bef0-4ea9-fb3b-02bc57e21183"
      },
      "source": [
        "confusion_matrix(y_teste, predicaoTeste)"
      ],
      "execution_count": 176,
      "outputs": [
        {
          "output_type": "execute_result",
          "data": {
            "text/plain": [
              "array([[134,  27],\n",
              "       [ 36,  80]])"
            ]
          },
          "metadata": {
            "tags": []
          },
          "execution_count": 176
        }
      ]
    }
  ]
}